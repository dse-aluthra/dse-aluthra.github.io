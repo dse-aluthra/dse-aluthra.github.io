{
 "cells": [
  {
   "cell_type": "markdown",
   "metadata": {},
   "source": [
    "### Amazon Product Review Helpfulness Kaggle competetion "
   ]
  },
  {
   "cell_type": "markdown",
   "metadata": {},
   "source": [
    "##### Amazon is a leading e-commerce website and uses Machine Learning applications extensively in their products. For example, they recommend products based on your browsing history and previous purchases so as to maximize their profit (by selling you another product!). Given Amazon review data - the item for which the review is and the user who has written the review, need to predict how helpful the review will be.\n"
   ]
  },
  {
   "cell_type": "code",
   "execution_count": 1,
   "metadata": {
    "collapsed": true
   },
   "outputs": [],
   "source": [
    "import gzip\n",
    "from collections import defaultdict"
   ]
  },
  {
   "cell_type": "code",
   "execution_count": 2,
   "metadata": {
    "collapsed": true
   },
   "outputs": [],
   "source": [
    "import numpy as np\n",
    "from sklearn import preprocessing\n",
    "import matplotlib.pyplot as plt\n",
    "import itertools\n",
    "\n",
    "from sklearn.metrics import accuracy_score\n",
    "from sklearn.metrics import mean_squared_error\n",
    "from sklearn.metrics import mean_absolute_error\n",
    "from sklearn.linear_model import LinearRegression\n",
    "from collections import Counter \n",
    "\n",
    "from sklearn import ensemble\n",
    "from sklearn.model_selection import GridSearchCV\n",
    "from sklearn.model_selection import train_test_split\n",
    "\n",
    "import matplotlib as mpl\n",
    "%matplotlib inline"
   ]
  },
  {
   "cell_type": "markdown",
   "metadata": {},
   "source": [
    "### Compute the global average helpfulness rate, and the average helpfulness rate for each user"
   ]
  },
  {
   "cell_type": "code",
   "execution_count": 3,
   "metadata": {
    "collapsed": true
   },
   "outputs": [],
   "source": [
    "def readGz(f):\n",
    "  for l in gzip.open(f):\n",
    "    yield eval(l)\n",
    "\n",
    "allHelpful = []\n",
    "userHelpful = defaultdict(list)\n",
    "\n",
    "for l in readGz(\"train.json.gz\"):\n",
    "  user,item = l['reviewerID'],l['itemID']\n",
    "  allHelpful.append(l['helpful'])\n",
    "  userHelpful[user].append(l['helpful'])\n",
    "\n",
    "averageRate = sum([x['nHelpful'] for x in allHelpful]) * 1.0 / sum([x['outOf'] for x in allHelpful])\n",
    "userRate = {}\n",
    "for u in userHelpful:\n",
    "  totalU = sum([x['outOf'] for x in userHelpful[u]])\n",
    "  if totalU > 0:\n",
    "    userRate[u] = sum([x['nHelpful'] for x in userHelpful[u]]) * 1.0 / totalU\n",
    "  else:\n",
    "    userRate[u] = averageRate"
   ]
  },
  {
   "cell_type": "markdown",
   "metadata": {},
   "source": [
    "## For reading the files in a pandas Dataframe."
   ]
  },
  {
   "cell_type": "code",
   "execution_count": 4,
   "metadata": {
    "collapsed": true
   },
   "outputs": [],
   "source": [
    "import pandas as pd\n",
    "from collections import defaultdict\n",
    "\n",
    "def readGz(f):\n",
    "  for l in gzip.open(f):\n",
    "    yield eval(l)\n",
    "\n",
    "def parse(path):\n",
    "  g = gzip.open(path, 'rb')\n",
    "  for l in g:\n",
    "    yield eval(l)\n",
    "\n",
    "def getDF(path):\n",
    "  i = 0\n",
    "  df = {}\n",
    "  for d in parse(path):\n",
    "    df[i] = d\n",
    "    i += 1\n",
    "  return pd.DataFrame.from_dict(df, orient='index')\n",
    "\n",
    "df = getDF('train.json.gz')\n",
    "test_df = getDF('test_Helpful.json.gz')"
   ]
  },
  {
   "cell_type": "code",
   "execution_count": 52,
   "metadata": {
    "collapsed": true
   },
   "outputs": [],
   "source": [
    "train_data = df.copy()\n",
    "train_data.drop(['categoryID','reviewHash', 'reviewTime', 'unixReviewTime'], axis=1, inplace=True)"
   ]
  },
  {
   "cell_type": "code",
   "execution_count": 53,
   "metadata": {
    "collapsed": true
   },
   "outputs": [],
   "source": [
    "train_data['len_summary'] = train_data['summary'].str.len()\n",
    "train_data['len_reviewText'] = train_data['reviewText'].str.len()\n",
    "train_data['ratio_reviewOverSummary'] = train_data['len_reviewText']/train_data['len_summary']"
   ]
  },
  {
   "cell_type": "code",
   "execution_count": 54,
   "metadata": {
    "collapsed": true
   },
   "outputs": [],
   "source": [
    "train_data['outOf'] = train_data['helpful'].apply(lambda x: x['outOf'])\n",
    "train_data['nHelpful'] = train_data['helpful'].apply(lambda x: x['nHelpful'])\n",
    "train_data = train_data[train_data.outOf != 0]\n",
    "\n",
    "train_data['ratio_nHelpful']=train_data['nHelpful']/train_data['outOf']"
   ]
  },
  {
   "cell_type": "code",
   "execution_count": 55,
   "metadata": {
    "collapsed": true
   },
   "outputs": [],
   "source": [
    "train_data['nSentence_Clause'] = train_data['reviewText'].apply(lambda x: (Counter(x)['.'] + Counter(x) [';'] \\\n",
    "                                                                           + Counter(x) [','] ) )\n",
    "train_data['UR']= train_data['reviewerID'].map(userRate)\n",
    "\n",
    "outOf_max = train_data['outOf'].max() \n",
    "train_data['wt_outOf'] = 100 * (train_data['outOf']/outOf_max)\n",
    "\n",
    "train_data['wt_UR'] = train_data['UR'] * train_data['wt_outOf']"
   ]
  },
  {
   "cell_type": "code",
   "execution_count": 56,
   "metadata": {
    "collapsed": true
   },
   "outputs": [],
   "source": [
    "train_data['len_categories'] = train_data['categories'].apply(lambda x: len(x ))"
   ]
  },
  {
   "cell_type": "code",
   "execution_count": 57,
   "metadata": {
    "collapsed": true
   },
   "outputs": [],
   "source": [
    "train_data.drop(['categories', 'reviewText', 'price','summary', 'helpful','nHelpful' ], axis=1, inplace=True)"
   ]
  },
  {
   "cell_type": "code",
   "execution_count": 58,
   "metadata": {},
   "outputs": [
    {
     "data": {
      "text/html": [
       "<div>\n",
       "<style>\n",
       "    .dataframe thead tr:only-child th {\n",
       "        text-align: right;\n",
       "    }\n",
       "\n",
       "    .dataframe thead th {\n",
       "        text-align: left;\n",
       "    }\n",
       "\n",
       "    .dataframe tbody tr th {\n",
       "        vertical-align: top;\n",
       "    }\n",
       "</style>\n",
       "<table border=\"1\" class=\"dataframe\">\n",
       "  <thead>\n",
       "    <tr style=\"text-align: right;\">\n",
       "      <th></th>\n",
       "      <th>itemID</th>\n",
       "      <th>reviewerID</th>\n",
       "      <th>rating</th>\n",
       "      <th>len_reviewText</th>\n",
       "      <th>ratio_reviewOverSummary</th>\n",
       "      <th>outOf</th>\n",
       "      <th>ratio_nHelpful</th>\n",
       "      <th>nSentence_Clause</th>\n",
       "    </tr>\n",
       "  </thead>\n",
       "  <tbody>\n",
       "    <tr>\n",
       "      <th>2</th>\n",
       "      <td>I408260822</td>\n",
       "      <td>U441384838</td>\n",
       "      <td>3.0</td>\n",
       "      <td>144</td>\n",
       "      <td>8.470588</td>\n",
       "      <td>2</td>\n",
       "      <td>1.0</td>\n",
       "      <td>3</td>\n",
       "    </tr>\n",
       "    <tr>\n",
       "      <th>4</th>\n",
       "      <td>I919238161</td>\n",
       "      <td>U096604734</td>\n",
       "      <td>5.0</td>\n",
       "      <td>424</td>\n",
       "      <td>38.545455</td>\n",
       "      <td>1</td>\n",
       "      <td>1.0</td>\n",
       "      <td>7</td>\n",
       "    </tr>\n",
       "    <tr>\n",
       "      <th>5</th>\n",
       "      <td>I098334555</td>\n",
       "      <td>U481392145</td>\n",
       "      <td>4.0</td>\n",
       "      <td>466</td>\n",
       "      <td>19.416667</td>\n",
       "      <td>1</td>\n",
       "      <td>1.0</td>\n",
       "      <td>7</td>\n",
       "    </tr>\n",
       "  </tbody>\n",
       "</table>\n",
       "</div>"
      ],
      "text/plain": [
       "       itemID  reviewerID  rating  len_reviewText  ratio_reviewOverSummary  \\\n",
       "2  I408260822  U441384838     3.0             144                 8.470588   \n",
       "4  I919238161  U096604734     5.0             424                38.545455   \n",
       "5  I098334555  U481392145     4.0             466                19.416667   \n",
       "\n",
       "   outOf  ratio_nHelpful  nSentence_Clause  \n",
       "2      2             1.0                 3  \n",
       "4      1             1.0                 7  \n",
       "5      1             1.0                 7  "
      ]
     },
     "execution_count": 58,
     "metadata": {},
     "output_type": "execute_result"
    }
   ],
   "source": [
    "#AL -testing with minimal features\n",
    "train_data.drop(['len_categories', 'wt_outOf', 'len_summary','UR','wt_UR'], axis=1, inplace=True)\n",
    "train_data.head(3)"
   ]
  },
  {
   "cell_type": "code",
   "execution_count": 61,
   "metadata": {
    "collapsed": true
   },
   "outputs": [],
   "source": [
    "# len(train_data[train_data.outOf == 1])\n",
    "# len(train_data[train_data.outOf > 400])\n",
    "\n",
    "# These outliars data points can be dropped. \n",
    "# For OutOf equal to i cases we can use classificaiton (instead of regression)"
   ]
  },
  {
   "cell_type": "code",
   "execution_count": 62,
   "metadata": {
    "collapsed": true
   },
   "outputs": [],
   "source": [
    "test_data = test_df.copy()\n",
    "test_data.drop(['categoryID','reviewHash', 'reviewTime', 'unixReviewTime'], axis=1, inplace=True)\n",
    "\n",
    "test_data['len_summary'] = test_data['summary'].str.len()\n",
    "test_data['len_reviewText'] = test_data['reviewText'].str.len()\n",
    "test_data['ratio_reviewOverSummary'] = test_data['len_reviewText']/test_data['len_summary']\n",
    "\n",
    "test_data['outOf'] = test_data['helpful'].apply(lambda x: x['outOf'])\n",
    "test_data = test_data[test_data.outOf != 0]\n",
    "\n",
    "test_data['nSentence_Clause'] = test_data['reviewText'].apply(lambda x: (Counter(x)['.'] + Counter(x) [';'] \\\n",
    "                                                                           + Counter(x) [','] ) )\n",
    "test_data['UR']= test_data['reviewerID'].map(userRate)\n",
    "test_data['UR'].fillna(averageRate, inplace=True)\n",
    "\n",
    "outOf_max_test = test_data['outOf'].max() \n",
    "test_data['wt_outOf'] = 100 * (test_data['outOf']/outOf_max_test)\n",
    "test_data['wt_UR'] = test_data['UR'] * test_data['wt_outOf']\n",
    "\n",
    "test_data['len_categories'] = test_data['categories'].apply(lambda x: len(x ))\n"
   ]
  },
  {
   "cell_type": "code",
   "execution_count": 63,
   "metadata": {
    "collapsed": true
   },
   "outputs": [],
   "source": [
    "test_data.drop(['categories', 'reviewText', 'price','summary','helpful'], axis=1, inplace=True)"
   ]
  },
  {
   "cell_type": "code",
   "execution_count": null,
   "metadata": {
    "collapsed": true
   },
   "outputs": [],
   "source": [
    "#AL -testing with minimal features\n",
    "test_data.drop(['len_categories', 'wt_outOf', 'len_summary','UR','wt_UR' ], axis=1, inplace=True)"
   ]
  },
  {
   "cell_type": "code",
   "execution_count": 66,
   "metadata": {
    "collapsed": true
   },
   "outputs": [],
   "source": [
    "X_train = train_data.drop(['itemID','reviewerID', 'ratio_nHelpful'], axis=1)\n",
    "y_train = train_data['ratio_nHelpful']"
   ]
  },
  {
   "cell_type": "code",
   "execution_count": 79,
   "metadata": {
    "scrolled": true
   },
   "outputs": [
    {
     "data": {
      "image/png": "[encoded data removed]",
      "text/plain": [
       "<matplotlib.figure.Figure at 0x127b10550>"
      ]
     },
     "metadata": {},
     "output_type": "display_data"
    }
   ],
   "source": [
    "y = train_data['outOf'].values\n",
    "x = train_data['ratio_nHelpful'].values\n",
    "\n",
    "plt.xlabel('Ratio of Helpful over Out of Count')\n",
    "plt.ylabel('Out Of count')\n",
    "plt.title(\"Distribution-Point(s) for Total# of Reviews\")\n",
    "plt.scatter(x,y);"
   ]
  },
  {
   "cell_type": "code",
   "execution_count": 100,
   "metadata": {
    "scrolled": true
   },
   "outputs": [
    {
     "data": {
      "image/png": "[encoded data removed]",
      "text/plain": [
       "<matplotlib.figure.Figure at 0x12d7d8940>"
      ]
     },
     "metadata": {},
     "output_type": "display_data"
    }
   ],
   "source": [
    "binwidth = 2\n",
    "plt.figure(figsize=(12,4))\n",
    "bins1 =range(train_data['outOf'].min(), 50 + binwidth, binwidth)\n",
    "plt.title(\"Out-of distribution\")\n",
    "plt.ylabel('Frequency')\n",
    "plt.xlabel('Out-Of count')\n",
    "plt.hist(train_data['outOf'].values, bins=bins1);"
   ]
  },
  {
   "cell_type": "code",
   "execution_count": 101,
   "metadata": {},
   "outputs": [
    {
     "name": "stdout",
     "output_type": "stream",
     "text": [
      "Shape of X_train 63016\n",
      "Shape of y_train  63016\n",
      "Shape of X_train_split, X_valid :  50412 12604\n",
      "Shape of y_train_split, , y_valid:  50412 12604\n"
     ]
    }
   ],
   "source": [
    "print (\"Shape of X_train\", len(X_train))\n",
    "print (\"Shape of y_train \", len(y_train))\n",
    "X_train_split, X_valid, y_train_split, y_valid = train_test_split(X_train, y_train,\\\n",
    "                                                        test_size=0.2, random_state=10)\n",
    "print (\"Shape of X_train_split, X_valid : \", len(X_train_split), len(X_valid))\n",
    "print (\"Shape of y_train_split, , y_valid: \", len(y_train_split), len(y_valid))"
   ]
  },
  {
   "cell_type": "code",
   "execution_count": 102,
   "metadata": {},
   "outputs": [
    {
     "data": {
      "text/plain": [
       "(50412, 5)"
      ]
     },
     "execution_count": 102,
     "metadata": {},
     "output_type": "execute_result"
    }
   ],
   "source": [
    "X_train_split = X_train_split[X_train_split.outOf != 0]\n",
    "X_train_split.shape"
   ]
  },
  {
   "cell_type": "code",
   "execution_count": null,
   "metadata": {
    "collapsed": true
   },
   "outputs": [],
   "source": [
    "#n_estimators': range(50,250,50)\n",
    "# parameters = {'n_estimators': [40, 60, 80, 100, 150, 200], 'max_depth': [4, 8, 12], \\\n",
    "#                     'learning_rate':[0.05, 0.1, 0.2], 'loss': ['ls', 'lad']}\n",
    "                                                                           \n",
    "# # params = {'n_estimators': 100, 'max_depth': 4, 'learning_rate': 0.05, 'loss': 'ls'}\n",
    "# #clf = ensemble.GradientBoostingRegressor(**params)\n",
    "\n",
    "# GBR = ensemble.GradientBoostingRegressor()\n",
    "# clf = GridSearchCV(GBR, parameters, verbose=False, n_jobs=-1)\n",
    "\n",
    "# clf.fit(X_train_split, y_train_split)\n",
    "# predictions = clf.predict(X_valid)\n",
    "\n",
    "# mse = mean_squared_error(y_valid, predictions)\n",
    "# mae = mean_absolute_error(y_valid, predictions)\n",
    "# print(\"MSE: %.4f\" % mse)\n",
    "# print(\"MAE: %.4f\" % mae)"
   ]
  },
  {
   "cell_type": "code",
   "execution_count": 107,
   "metadata": {},
   "outputs": [
    {
     "data": {
      "text/plain": [
       "GradientBoostingRegressor(alpha=0.9, criterion='friedman_mse', init=None,\n",
       "             learning_rate=0.05, loss='ls', max_depth=4, max_features=None,\n",
       "             max_leaf_nodes=None, min_impurity_split=1e-07,\n",
       "             min_samples_leaf=1, min_samples_split=2,\n",
       "             min_weight_fraction_leaf=0.0, n_estimators=100,\n",
       "             presort='auto', random_state=None, subsample=1.0, verbose=0,\n",
       "             warm_start=False)"
      ]
     },
     "execution_count": 107,
     "metadata": {},
     "output_type": "execute_result"
    }
   ],
   "source": [
    "params = {'n_estimators': 100, 'max_depth': 4, 'learning_rate': 0.05, 'loss': 'ls'}\n",
    "clf = ensemble.GradientBoostingRegressor(**params)\n",
    "clf.fit(X_train, y_train)"
   ]
  },
  {
   "cell_type": "code",
   "execution_count": 28,
   "metadata": {
    "collapsed": true
   },
   "outputs": [],
   "source": [
    "predictions = open(\"predictions_Helpful.txt\", 'w')\n",
    "\n",
    "for l in open(\"pairs_Helpful.txt\"):\n",
    "    if l.startswith(\"userID\"):\n",
    "        predictions.write(l)\n",
    "        continue\n",
    "    u,i,outOf = l.strip().split('-')\n",
    "    outOf = int(outOf)\n",
    "    \n",
    "    if outOf == 0:\n",
    "        predictions.write(u + '-' + i + '-' + str(outOf) + ',' + str(outOf) + '\\n')\n",
    "    else:\n",
    "        temp_X = (test_data.loc[(test_data['itemID'] == i) & (test_data['reviewerID'] == u)] ) \\\n",
    "                                                                .drop(['itemID','reviewerID'], axis=1)\n",
    "        pred_value = round(clf.predict(temp_X)[0], 3)\n",
    "        predictions.write(u + '-' + i + '-' + str(outOf) + ',' + str(round(outOf * pred_value) ) + '\\n')\n",
    "\n",
    "predictions.close()"
   ]
  },
  {
   "cell_type": "code",
   "execution_count": 136,
   "metadata": {},
   "outputs": [
    {
     "data": {
      "image/png": "[encoded data removed]",
      "text/plain": [
       "<matplotlib.figure.Figure at 0x12d7e8550>"
      ]
     },
     "metadata": {},
     "output_type": "display_data"
    }
   ],
   "source": [
    "test_score = np.zeros((params['n_estimators'],), dtype=np.float64)\n",
    "\n",
    "for i, y_pred in enumerate(clf.staged_predict(X_valid)):\n",
    "    test_score[i] = clf.loss_(y_valid, y_pred)\n",
    "\n",
    "plt.figure(figsize=(12, 6))\n",
    "plt.subplot(1, 2, 1)\n",
    "plt.title('Reduction in Loss Vs Number of Iteration')\n",
    "plt.plot(np.arange(params['n_estimators']) + 1, clf.train_score_, 'b-',\n",
    "         label='Training Set Deviance')\n",
    "plt.plot(np.arange(params['n_estimators']) + 1, test_score, 'r-',\n",
    "         label='Validation Set Deviance')\n",
    "plt.legend(loc='upper right')\n",
    "plt.xlabel('Boosting Iterations')\n",
    "plt.ylabel('Deviance');"
   ]
  },
  {
   "cell_type": "code",
   "execution_count": 109,
   "metadata": {},
   "outputs": [
    {
     "data": {
      "image/png": "[encoded data removed]",
      "text/plain": [
       "<matplotlib.figure.Figure at 0x12a088208>"
      ]
     },
     "metadata": {},
     "output_type": "display_data"
    }
   ],
   "source": [
    "feature_importance = clf.feature_importances_\n",
    "# make importances relative to max importance\n",
    "feature_importance = 100.0 * (feature_importance / feature_importance.max())\n",
    "sorted_idx = np.argsort(feature_importance)\n",
    "pos = np.arange(sorted_idx.shape[0]) + .5\n",
    "plt.subplot(1, 2, 2)\n",
    "plt.barh(pos, feature_importance[sorted_idx], align='center')\n",
    "plt.yticks(pos, X_train.columns[sorted_idx])\n",
    "plt.xlabel('Relative Importance')\n",
    "plt.title('Variable Importance')\n",
    "plt.show()"
   ]
  }
 ],
 "metadata": {
  "anaconda-cloud": {},
  "kernelspec": {
   "display_name": "Python [conda env:py36]",
   "language": "python",
   "name": "conda-env-py36-py"
  },
  "language_info": {
   "codemirror_mode": {
    "name": "ipython",
    "version": 3
   },
   "file_extension": ".py",
   "mimetype": "text/x-python",
   "name": "python",
   "nbconvert_exporter": "python",
   "pygments_lexer": "ipython3",
   "version": "3.6.1"
  }
 },
 "nbformat": 4,
 "nbformat_minor": 1
}
