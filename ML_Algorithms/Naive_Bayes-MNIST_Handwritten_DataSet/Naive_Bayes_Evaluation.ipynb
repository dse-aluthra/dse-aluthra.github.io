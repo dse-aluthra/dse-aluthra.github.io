{
 "cells": [
  {
   "cell_type": "markdown",
   "metadata": {},
   "source": [
    "## Naive_Bayes -MNIST_Handwritten\n",
    "#### Evaluating Classifier\n",
    "#### Regression & Ablation (Feature Extraction)"
   ]
  },
  {
   "cell_type": "code",
   "execution_count": 1,
   "metadata": {
    "collapsed": true
   },
   "outputs": [],
   "source": [
    "import pandas as pd\n",
    "import numpy as np\n",
    "from sklearn import preprocessing\n",
    "import matplotlib.pyplot as plt\n",
    "import itertools"
   ]
  },
  {
   "cell_type": "code",
   "execution_count": 2,
   "metadata": {
    "collapsed": true
   },
   "outputs": [],
   "source": [
    "from sklearn import datasets\n",
    "from sklearn.model_selection import train_test_split\n",
    "from sklearn.metrics import accuracy_score\n",
    "from sklearn.mixture import GaussianMixture\n",
    "from sklearn.discriminant_analysis import LinearDiscriminantAnalysis\n",
    "from sklearn.metrics import mean_squared_error\n",
    "from sklearn.metrics import mean_absolute_error\n",
    "from sklearn.metrics import confusion_matrix\n",
    "from sklearn.neighbors import KNeighborsClassifier\n",
    "from sklearn.linear_model import LinearRegression\n",
    "from collections import Counter \n",
    "\n",
    "import matplotlib as mpl\n",
    "%matplotlib inline"
   ]
  },
  {
   "cell_type": "markdown",
   "metadata": {
    "collapsed": true
   },
   "source": [
    "### Data Load\n",
    "Downloaded the MNIST (train and test) data from the github. "
   ]
  },
  {
   "cell_type": "code",
   "execution_count": 3,
   "metadata": {
    "collapsed": true
   },
   "outputs": [],
   "source": [
    "with open \\\n",
    "  ('mnist_train_data.csv', 'r') as f:\n",
    "        X_train = pd.read_csv(f, header=None)\n",
    "with open \\\n",
    "  ('mnist_train_labels.csv', 'r') as f:\n",
    "        y_train = pd.read_csv(f, header=None, names = ['labels'])\n",
    "with open \\\n",
    "  ('mnist_test_data.csv', 'r') as f:\n",
    "        X_test = pd.read_csv(f, header=None)\n",
    "\n",
    "with open \\\n",
    "  ('mnist_test_labels.csv', 'r') as f:\n",
    "        y_test = pd.read_csv(f, header=None)"
   ]
  },
  {
   "cell_type": "code",
   "execution_count": 4,
   "metadata": {},
   "outputs": [
    {
     "data": {
      "text/html": [
       "<div>\n",
       "<style>\n",
       "    .dataframe thead tr:only-child th {\n",
       "        text-align: right;\n",
       "    }\n",
       "\n",
       "    .dataframe thead th {\n",
       "        text-align: left;\n",
       "    }\n",
       "\n",
       "    .dataframe tbody tr th {\n",
       "        vertical-align: top;\n",
       "    }\n",
       "</style>\n",
       "<table border=\"1\" class=\"dataframe\">\n",
       "  <thead>\n",
       "    <tr style=\"text-align: right;\">\n",
       "      <th></th>\n",
       "      <th>0</th>\n",
       "      <th>1</th>\n",
       "      <th>2</th>\n",
       "      <th>3</th>\n",
       "      <th>4</th>\n",
       "      <th>5</th>\n",
       "      <th>6</th>\n",
       "      <th>7</th>\n",
       "      <th>8</th>\n",
       "      <th>9</th>\n",
       "      <th>...</th>\n",
       "      <th>774</th>\n",
       "      <th>775</th>\n",
       "      <th>776</th>\n",
       "      <th>777</th>\n",
       "      <th>778</th>\n",
       "      <th>779</th>\n",
       "      <th>780</th>\n",
       "      <th>781</th>\n",
       "      <th>782</th>\n",
       "      <th>783</th>\n",
       "    </tr>\n",
       "  </thead>\n",
       "  <tbody>\n",
       "    <tr>\n",
       "      <th>0</th>\n",
       "      <td>0.0</td>\n",
       "      <td>0.0</td>\n",
       "      <td>0.0</td>\n",
       "      <td>0.0</td>\n",
       "      <td>0.0</td>\n",
       "      <td>0.0</td>\n",
       "      <td>0.0</td>\n",
       "      <td>0.0</td>\n",
       "      <td>0.0</td>\n",
       "      <td>0.0</td>\n",
       "      <td>...</td>\n",
       "      <td>0.0</td>\n",
       "      <td>0.0</td>\n",
       "      <td>0.0</td>\n",
       "      <td>0.0</td>\n",
       "      <td>0.0</td>\n",
       "      <td>0.0</td>\n",
       "      <td>0.0</td>\n",
       "      <td>0.0</td>\n",
       "      <td>0.0</td>\n",
       "      <td>0.0</td>\n",
       "    </tr>\n",
       "    <tr>\n",
       "      <th>1</th>\n",
       "      <td>0.0</td>\n",
       "      <td>0.0</td>\n",
       "      <td>0.0</td>\n",
       "      <td>0.0</td>\n",
       "      <td>0.0</td>\n",
       "      <td>0.0</td>\n",
       "      <td>0.0</td>\n",
       "      <td>0.0</td>\n",
       "      <td>0.0</td>\n",
       "      <td>0.0</td>\n",
       "      <td>...</td>\n",
       "      <td>0.0</td>\n",
       "      <td>0.0</td>\n",
       "      <td>0.0</td>\n",
       "      <td>0.0</td>\n",
       "      <td>0.0</td>\n",
       "      <td>0.0</td>\n",
       "      <td>0.0</td>\n",
       "      <td>0.0</td>\n",
       "      <td>0.0</td>\n",
       "      <td>0.0</td>\n",
       "    </tr>\n",
       "  </tbody>\n",
       "</table>\n",
       "<p>2 rows × 784 columns</p>\n",
       "</div>"
      ],
      "text/plain": [
       "   0    1    2    3    4    5    6    7    8    9   ...   774  775  776  777  \\\n",
       "0  0.0  0.0  0.0  0.0  0.0  0.0  0.0  0.0  0.0  0.0 ...   0.0  0.0  0.0  0.0   \n",
       "1  0.0  0.0  0.0  0.0  0.0  0.0  0.0  0.0  0.0  0.0 ...   0.0  0.0  0.0  0.0   \n",
       "\n",
       "   778  779  780  781  782  783  \n",
       "0  0.0  0.0  0.0  0.0  0.0  0.0  \n",
       "1  0.0  0.0  0.0  0.0  0.0  0.0  \n",
       "\n",
       "[2 rows x 784 columns]"
      ]
     },
     "execution_count": 4,
     "metadata": {},
     "output_type": "execute_result"
    }
   ],
   "source": [
    "X_train.head(2)"
   ]
  },
  {
   "cell_type": "code",
   "execution_count": 5,
   "metadata": {
    "collapsed": true
   },
   "outputs": [],
   "source": [
    "lbls = y_train['labels'].unique()"
   ]
  },
  {
   "cell_type": "code",
   "execution_count": 6,
   "metadata": {},
   "outputs": [
    {
     "name": "stdout",
     "output_type": "stream",
     "text": [
      "[0 1 2 3 4 5 6 7 8 9]\n"
     ]
    }
   ],
   "source": [
    "lbls.sort()\n",
    "print (lbls)"
   ]
  },
  {
   "cell_type": "markdown",
   "metadata": {},
   "source": [
    "### Generative Learning - Computing prior probalities"
   ]
  },
  {
   "cell_type": "code",
   "execution_count": 7,
   "metadata": {
    "scrolled": true
   },
   "outputs": [
    {
     "name": "stdout",
     "output_type": "stream",
     "text": [
      "Count for label 0  =  592  and Prior probabilty   =  0.0986666666667\n",
      "Count for label 1  =  671  and Prior probabilty   =  0.111833333333\n",
      "Count for label 2  =  581  and Prior probabilty   =  0.0968333333333\n",
      "Count for label 3  =  608  and Prior probabilty   =  0.101333333333\n",
      "Count for label 4  =  623  and Prior probabilty   =  0.103833333333\n",
      "Count for label 5  =  514  and Prior probabilty   =  0.0856666666667\n",
      "Count for label 6  =  608  and Prior probabilty   =  0.101333333333\n",
      "Count for label 7  =  651  and Prior probabilty   =  0.1085\n",
      "Count for label 8  =  551  and Prior probabilty   =  0.0918333333333\n",
      "Count for label 9  =  601  and Prior probabilty   =  0.100166666667\n",
      "\n",
      "Checking Sum of all priors =  1.0\n"
     ]
    }
   ],
   "source": [
    "lbl_cnt_lst = []\n",
    "priors = []\n",
    "priors_dict = {}\n",
    "\n",
    "for l in lbls: \n",
    "    cnt = y_train[y_train['labels'] == l].count()[0] \n",
    "    lbl_cnt_lst.append(cnt)  \n",
    "    tmp_prior = cnt / len (y_train)\n",
    "    priors.append(tmp_prior)\n",
    "    \n",
    "    priors_dict[l] = tmp_prior\n",
    "    print (\"Count for label\", l ,\" = \" , cnt, \" and Prior probabilty \", \" = \", tmp_prior)\n",
    "\n",
    "print (\"\\nChecking Sum of all priors = \", sum(priors))"
   ]
  },
  {
   "cell_type": "code",
   "execution_count": 37,
   "metadata": {},
   "outputs": [
    {
     "data": {
      "image/png": "[encoded data removed]",
      "text/plain": [
       "<matplotlib.figure.Figure at 0x10fe42828>"
      ]
     },
     "metadata": {},
     "output_type": "display_data"
    }
   ],
   "source": [
    "plt.bar(lbls,priors_dict.values(),width=.5, \\\n",
    "        color='green',edgecolor='green')\n",
    "plt.ylabel('Probabilities')\n",
    "plt.xlabel('Digits')\n",
    "plt.title('Labels Prior Probabilities')\n",
    "plt.xticks(lbls, ('0', '1', '2', '3', '4','5','6','7','8','9'))\n",
    "plt.show()"
   ]
  },
  {
   "cell_type": "code",
   "execution_count": 8,
   "metadata": {
    "scrolled": false
   },
   "outputs": [
    {
     "name": "stdout",
     "output_type": "stream",
     "text": [
      "\n",
      " Log of priors list = \n",
      " [-2.31600811 -2.19074561 -2.33476399 -2.28933987 -2.26496823 -2.45729148\n",
      " -2.28933987 -2.22100511 -2.38777994 -2.30091981]\n"
     ]
    }
   ],
   "source": [
    "#rett = y_train[0].value_counts()\n",
    "log_priors= np.log(priors)\n",
    "print (\"\\n Log of priors list = \\n\", log_priors)"
   ]
  },
  {
   "cell_type": "markdown",
   "metadata": {},
   "source": [
    "\n",
    "\n",
    "\n",
    "### Computing maximum likelihood of each class using Laplacian Smoothing"
   ]
  },
  {
   "cell_type": "code",
   "execution_count": 9,
   "metadata": {
    "scrolled": false
   },
   "outputs": [
    {
     "name": "stdout",
     "output_type": "stream",
     "text": [
      "Highest Probability(Pji) for label 0  =  0.851851851852\n",
      "Highest Probability(Pji) for label 1  =  0.98514115899\n",
      "Highest Probability(Pji) for label 2  =  0.728987993139\n",
      "Highest Probability(Pji) for label 3  =  0.808196721311\n",
      "Highest Probability(Pji) for label 4  =  0.8496\n",
      "Highest Probability(Pji) for label 5  =  0.711240310078\n",
      "Highest Probability(Pji) for label 6  =  0.849180327869\n",
      "Highest Probability(Pji) for label 7  =  0.794793261868\n",
      "Highest Probability(Pji) for label 8  =  0.875226039783\n",
      "Highest Probability(Pji) for label 9  =  0.867330016584\n"
     ]
    }
   ],
   "source": [
    "merged_df = pd.concat([X_train, y_train ], axis = 1)\n",
    "pji = np.zeros(shape=[10, 784])\n",
    "\n",
    "for l in lbls: \n",
    "    temp_df = merged_df.loc[merged_df['labels'] == l]\n",
    "    temp_df = temp_df.drop('labels', 1)\n",
    "    np_sum = (temp_df.values).sum(axis = 0)\n",
    "    \n",
    "    np_pr = (np_sum +1 ) / (temp_df.shape[0] + 2)\n",
    "    pji[l, :] = np_pr\n",
    "    print (\"Highest Probability(Pji) for label\", l,   \" = \",np_pr.max())\n",
    "\n",
    "log_pji = np.log(pji.T)"
   ]
  },
  {
   "cell_type": "markdown",
   "metadata": {},
   "source": [
    "### Use naive bayes formula to to classify test data "
   ]
  },
  {
   "cell_type": "code",
   "execution_count": 10,
   "metadata": {
    "collapsed": true
   },
   "outputs": [],
   "source": [
    "left_term = np.matmul(X_test, log_pji)"
   ]
  },
  {
   "cell_type": "code",
   "execution_count": 11,
   "metadata": {
    "collapsed": true
   },
   "outputs": [],
   "source": [
    "right_term = np.matmul((1 - X_test), np.log(1 - pji).T )"
   ]
  },
  {
   "cell_type": "code",
   "execution_count": 12,
   "metadata": {
    "collapsed": true
   },
   "outputs": [],
   "source": [
    "final = np.add(( left_term + right_term), log_priors)"
   ]
  },
  {
   "cell_type": "code",
   "execution_count": 13,
   "metadata": {
    "collapsed": true
   },
   "outputs": [],
   "source": [
    "y_predicted = np.argmax(final, axis = 1)\n"
   ]
  },
  {
   "cell_type": "code",
   "execution_count": 14,
   "metadata": {},
   "outputs": [
    {
     "name": "stdout",
     "output_type": "stream",
     "text": [
      "Using Naive Bayes - Test accuracy is 80.9% \n"
     ]
    }
   ],
   "source": [
    "print ('Using Naive Bayes - Test accuracy is {}% '.format(accuracy_score(y_test, y_predicted) * 100))"
   ]
  },
  {
   "cell_type": "markdown",
   "metadata": {
    "collapsed": true
   },
   "source": [
    "### Computing the confusion matrix  "
   ]
  },
  {
   "cell_type": "code",
   "execution_count": 15,
   "metadata": {
    "collapsed": true
   },
   "outputs": [],
   "source": [
    "def plot_confusion_matrix(cm, classes, normalize=True, title='Confusion matrix', cmap=plt.cm.OrRd):\n",
    "    plt.imshow(cm, interpolation='nearest', cmap=cmap)\n",
    "    plt.title(title)\n",
    "    plt.colorbar()\n",
    "    tick_marks = np.arange(len(classes))\n",
    "    plt.xticks(tick_marks, classes)\n",
    "    plt.yticks(tick_marks, classes)\n",
    "\n",
    "    thresh = cm.max() / 2.\n",
    "    for i, j in itertools.product(range(cm.shape[0]), range(cm.shape[1])):\n",
    "        plt.text(j, i, cm[i, j],\n",
    "                 horizontalalignment=\"center\",\n",
    "                 color=\"white\" if cm[i, j] > thresh else \"black\")\n",
    "    plt.tight_layout()\n",
    "    plt.ylabel('Actual label')\n",
    "    plt.xlabel('Predicted label')"
   ]
  },
  {
   "cell_type": "code",
   "execution_count": 16,
   "metadata": {},
   "outputs": [
    {
     "data": {
      "image/png": "[encoded data removed]",
      "text/plain": [
       "<matplotlib.figure.Figure at 0x117358f98>"
      ]
     },
     "metadata": {},
     "output_type": "display_data"
    }
   ],
   "source": [
    "cnf_matrix = confusion_matrix(y_test, y_predicted)  # Creating confusion matrix\n",
    "plt.figure(figsize = (7,5))\n",
    "plot_confusion_matrix(cnf_matrix, classes=lbls, title='Confusion Matrix on MNIST Test Data')\n",
    "\n",
    "plt.show()"
   ]
  },
  {
   "cell_type": "code",
   "execution_count": 17,
   "metadata": {
    "scrolled": true
   },
   "outputs": [
    {
     "name": "stdout",
     "output_type": "stream",
     "text": [
      "Top 3 pairs with most (absolute number) incorrect classifications are\n"
     ]
    },
    {
     "data": {
      "text/plain": [
       "[('True label 4 predicted as 9 incorrect count =', 21),\n",
       " ('True label 5 predicted as 3 incorrect count =', 11),\n",
       " ('True label 8 predicted as 3 incorrect count =', 9)]"
      ]
     },
     "execution_count": 17,
     "metadata": {},
     "output_type": "execute_result"
    }
   ],
   "source": [
    "incorr_dict  = dict()\n",
    "\n",
    "for row in range(len(cnf_matrix)):\n",
    "    for col in range(len(cnf_matrix)):\n",
    "        if row != col:\n",
    "            key = 'True label '+ str(row) + ' predicted as ' + str(col) + ' incorrect count ='\n",
    "            incorr_dict[key] = cnf_matrix[row, col]\n",
    "            \n",
    "            \n",
    "print ('Top 3 pairs with most (absolute number) incorrect classifications are')\n",
    "Counter(incorr_dict).most_common(3)"
   ]
  },
  {
   "cell_type": "markdown",
   "metadata": {},
   "source": [
    "### Top 3 pairs with most (absolute number) incorrect classifications are\n",
    "####  [('True label 4 predicted as 9 incorrect count =', 21),\n",
    "####   ('True label 5 predicted as 3 incorrect count =', 11),\n",
    "####   ('True label 8 predicted as 3 incorrect count =', 9)]"
   ]
  },
  {
   "cell_type": "markdown",
   "metadata": {},
   "source": [
    "### Visualizing two missclassfied on test data"
   ]
  },
  {
   "cell_type": "code",
   "execution_count": 19,
   "metadata": {
    "collapsed": true
   },
   "outputs": [],
   "source": [
    "def displaychar(image):\n",
    "    plt.imshow(np.reshape(image.values, (28,28)), cmap=plt.cm.gray)\n",
    "    plt.axis('off')\n",
    "    plt.show()"
   ]
  },
  {
   "cell_type": "code",
   "execution_count": 20,
   "metadata": {
    "collapsed": true
   },
   "outputs": [],
   "source": [
    "mistake_indx = y_test.loc[ (y_test[0] !=  pd.DataFrame(y_predicted)[0] ) ].index"
   ]
  },
  {
   "cell_type": "code",
   "execution_count": 21,
   "metadata": {},
   "outputs": [
    {
     "name": "stdout",
     "output_type": "stream",
     "text": [
      "Total misclassified labels out of test data=  191\n",
      "Index of misclassified labels  Int64Index([  8,  15,  22,  33,  38,  46,  54,  55,  63,  65,\n",
      "            ...\n",
      "            952, 956, 959, 960, 965, 975, 982, 985, 994, 998],\n",
      "           dtype='int64', length=191)\n"
     ]
    }
   ],
   "source": [
    "print (\"Total misclassified labels out of test data= \", len(mistake_indx) )\n",
    "print (\"Index of misclassified labels \", mistake_indx );"
   ]
  },
  {
   "cell_type": "code",
   "execution_count": 22,
   "metadata": {},
   "outputs": [
    {
     "name": "stdout",
     "output_type": "stream",
     "text": [
      "First, True label\n"
     ]
    },
    {
     "data": {
      "image/png": "[encoded data removed]",
      "text/plain": [
       "<matplotlib.figure.Figure at 0x112076908>"
      ]
     },
     "metadata": {},
     "output_type": "display_data"
    },
    {
     "name": "stdout",
     "output_type": "stream",
     "text": [
      "Misclassified as  label 8\n"
     ]
    }
   ],
   "source": [
    "print (\"First, True label\");\n",
    "displaychar(X_test.loc[55, :])\n",
    "print (\"Misclassified as  label\", y_predicted[55] );"
   ]
  },
  {
   "cell_type": "code",
   "execution_count": 23,
   "metadata": {
    "scrolled": true
   },
   "outputs": [
    {
     "name": "stdout",
     "output_type": "stream",
     "text": [
      "Second, True label\n"
     ]
    },
    {
     "data": {
      "image/png": "[encoded data removed]",
      "text/plain": [
       "<matplotlib.figure.Figure at 0x112113710>"
      ]
     },
     "metadata": {},
     "output_type": "display_data"
    },
    {
     "name": "stdout",
     "output_type": "stream",
     "text": [
      "Misclassified as  label 9\n"
     ]
    }
   ],
   "source": [
    "print (\"Second, True label\");\n",
    "displaychar(X_test.loc[65, :])\n",
    "print (\"Misclassified as  label\", y_predicted[65] );"
   ]
  },
  {
   "cell_type": "markdown",
   "metadata": {},
   "source": [
    "### Evaluating Classifier Metrics "
   ]
  },
  {
   "cell_type": "code",
   "execution_count": 39,
   "metadata": {
    "collapsed": true
   },
   "outputs": [],
   "source": [
    "digits_data = datasets.load_digits()\n",
    "X = digits_data.data\n",
    "y = digits_data.target\n",
    "# print (\"Shape of X = \", X.shape)\n",
    "# print (\"Shape of y = \", y.shape)"
   ]
  },
  {
   "cell_type": "code",
   "execution_count": 40,
   "metadata": {},
   "outputs": [
    {
     "name": "stdout",
     "output_type": "stream",
     "text": [
      "Shape of X_train, X_test :  (497, 64) (1300, 64)\n",
      "Shape of y_train, y_test :  (497,) (1300,)\n"
     ]
    }
   ],
   "source": [
    "X_test = X[-1300:]\n",
    "X_train = X[:-1300]\n",
    "y_test = y[-1300:]\n",
    "y_train = y[:-1300]\n",
    "print (\"Shape of X_train, X_test : \", X_train.shape, X_test.shape)\n",
    "print (\"Shape of y_train, y_test : \", y_train.shape, y_test.shape)"
   ]
  },
  {
   "cell_type": "code",
   "execution_count": 41,
   "metadata": {},
   "outputs": [
    {
     "name": "stdout",
     "output_type": "stream",
     "text": [
      "K-Nearest Classifier, evaluating accuracy 89.38461538461539% \n"
     ]
    }
   ],
   "source": [
    "clf = KNeighborsClassifier(n_neighbors= 5, metric = 'chebyshev')\n",
    "clf.fit(X_train, y_train )\n",
    "y_pred = clf.predict(X_test)\n",
    "print ('K-Nearest Classifier, evaluating accuracy {}% '.format(accuracy_score(y_test, y_pred) * 100))"
   ]
  },
  {
   "cell_type": "code",
   "execution_count": 42,
   "metadata": {
    "collapsed": true
   },
   "outputs": [],
   "source": [
    "TP = sum(y_pred[y_test == 3] == 3)\n",
    "FP = sum(y_pred[y_test != 3] == 3)\n",
    "TN = sum(y_pred[y_test != 3] != 3)\n",
    "FN = sum(y_pred[y_test == 3] != 3)"
   ]
  },
  {
   "cell_type": "code",
   "execution_count": 43,
   "metadata": {},
   "outputs": [
    {
     "name": "stdout",
     "output_type": "stream",
     "text": [
      "Values of TP, TN, FP, FN =  113 1157 13 17\n"
     ]
    }
   ],
   "source": [
    "print ('Values of TP, TN, FP, FN = ', TP, TN, FP, FN)\n"
   ]
  },
  {
   "cell_type": "code",
   "execution_count": 44,
   "metadata": {},
   "outputs": [
    {
     "data": {
      "text/plain": [
       "{'FNR': 0.13076923076923078,\n",
       " 'FPR': 0.011111111111111072,\n",
       " 'Precision': 0.89682539682539686,\n",
       " 'Recall': 0.86923076923076925,\n",
       " 'Sensitivity': 0.86923076923076925,\n",
       " 'Specificity': 0.98888888888888893,\n",
       " 'TNR': 0.98888888888888893,\n",
       " 'TPR': 0.13076923076923075}"
      ]
     },
     "execution_count": 44,
     "metadata": {},
     "output_type": "execute_result"
    }
   ],
   "source": [
    "eval_dict = {}\n",
    "Sensitivity = TP/(TP+FN)\n",
    "TPR = Recall = Sensitivity\n",
    "eval_dict['Sensitivity'] = Sensitivity\n",
    "eval_dict['Recall'] = Recall\n",
    "eval_dict['TPR'] = TPR\n",
    "Precision = TP/(TP+FP)\n",
    "eval_dict['Precision'] = Precision\n",
    "Specificity = TN/(TN+FP)\n",
    "TNR = Specificity\n",
    "eval_dict['Specificity'] = Specificity\n",
    "eval_dict['TNR'] = TNR\n",
    "\n",
    "eval_dict['FPR'] = 1 - TNR\n",
    "eval_dict['TPR'] = 1 - TPR\n",
    "eval_dict['FNR'] = FN /(FN + TP)\n",
    "eval_dict\n",
    "\n",
    "\n"
   ]
  },
  {
   "cell_type": "markdown",
   "metadata": {},
   "source": [
    "### Regression & Ablation Technique (Feature selection) "
   ]
  },
  {
   "cell_type": "code",
   "execution_count": 46,
   "metadata": {
    "collapsed": true
   },
   "outputs": [],
   "source": [
    "diabetes = datasets.load_diabetes()"
   ]
  },
  {
   "cell_type": "code",
   "execution_count": 47,
   "metadata": {
    "collapsed": true
   },
   "outputs": [],
   "source": [
    "X = diabetes.data\n",
    "y = diabetes.target"
   ]
  },
  {
   "cell_type": "code",
   "execution_count": 48,
   "metadata": {
    "collapsed": true
   },
   "outputs": [],
   "source": [
    "# Split data into training and testing datasets adding the intercept term for initial w0 \n",
    "X_train, X_test, y_train, y_test = train_test_split(X, y, test_size=0.1, random_state=10)\n",
    "# print (\"Shape of X_train, X_test : \", X_train.shape, X_test.shape)\n",
    "# print (\"Shape of y_train, y_test : \", y_train.shape, y_test.shape)"
   ]
  },
  {
   "cell_type": "code",
   "execution_count": 56,
   "metadata": {
    "collapsed": true
   },
   "outputs": [],
   "source": [
    "# Creating linear regression object  with \n",
    "regr = LinearRegression(fit_intercept=True)\n",
    "regr.fit(X_train, y_train)\n",
    "predictions = regr.predict(X_test)"
   ]
  },
  {
   "cell_type": "code",
   "execution_count": 50,
   "metadata": {},
   "outputs": [
    {
     "name": "stdout",
     "output_type": "stream",
     "text": [
      "Mean Squared Error on test with all features :  2155.96465103\n"
     ]
    }
   ],
   "source": [
    "print (\"Mean Squared Error on test with all features : \", mean_squared_error(y_test, predictions))"
   ]
  },
  {
   "cell_type": "code",
   "execution_count": 51,
   "metadata": {},
   "outputs": [
    {
     "name": "stdout",
     "output_type": "stream",
     "text": [
      "Mean Absolute Error on test :  36.3181336987\n"
     ]
    }
   ],
   "source": [
    "print (\"Mean Absolute Error on test : \" , mean_absolute_error(y_test, predictions))"
   ]
  },
  {
   "cell_type": "markdown",
   "metadata": {},
   "source": [
    "### Feature Ablation"
   ]
  },
  {
   "cell_type": "code",
   "execution_count": 57,
   "metadata": {
    "collapsed": true
   },
   "outputs": [],
   "source": [
    "X_train_df = pd.DataFrame(X_train)\n",
    "X_test_df = pd.DataFrame(X_test)\n",
    "y_train_df = pd.DataFrame(y_train)\n",
    "y_test_df = pd.DataFrame(y_test)"
   ]
  },
  {
   "cell_type": "code",
   "execution_count": 58,
   "metadata": {},
   "outputs": [
    {
     "name": "stdout",
     "output_type": "stream",
     "text": [
      "Shape of X_train_df, X_test_df :  (397, 10) (45, 10)\n",
      "Shape of y_train_df, y_test_df :  (397, 1) (45, 1)\n"
     ]
    }
   ],
   "source": [
    "print (\"Shape of X_train_df, X_test_df : \", X_train_df.shape, X_test_df.shape)\n",
    "print (\"Shape of y_train_df, y_test_df : \", y_train_df.shape, y_test_df.shape)"
   ]
  },
  {
   "cell_type": "code",
   "execution_count": 59,
   "metadata": {},
   "outputs": [
    {
     "name": "stdout",
     "output_type": "stream",
     "text": [
      "Base Line : Mean squared Error with all Features is :  2155.96\n"
     ]
    }
   ],
   "source": [
    "regr = LinearRegression(fit_intercept=True)\n",
    "regr.fit(X_train_df, y_train_df)\n",
    "predictions = regr.predict(X_test_df)\n",
    "\n",
    "baseline_mse = mean_squared_error(y_test_df, predictions)\n",
    "print (\"Base Line Mean squared Error with all Features is : \", format(baseline_mse, '.2f') )"
   ]
  },
  {
   "cell_type": "code",
   "execution_count": 60,
   "metadata": {},
   "outputs": [
    {
     "name": "stdout",
     "output_type": "stream",
     "text": [
      "Mean squared Error for ablated feature  0  is : 2152.81\n",
      "Mean squared Error for ablated feature  1  is : 2259.13\n",
      "Mean squared Error for ablated feature  2  is : 2783.51\n",
      "Mean squared Error for ablated feature  3  is : 2424.77\n",
      "Mean squared Error for ablated feature  4  is : 2187.60\n",
      "Mean squared Error for ablated feature  5  is : 2167.52\n",
      "Mean squared Error for ablated feature  6  is : 2159.15\n",
      "Mean squared Error for ablated feature  7  is : 2153.06\n",
      "Mean squared Error for ablated feature  8  is : 2335.17\n",
      "Mean squared Error for ablated feature  9  is : 2165.87\n"
     ]
    }
   ],
   "source": [
    "mse_dict = {}\n",
    "for col in X_train_df.columns:\n",
    "    tmp_train_df = X_train_df.drop(X_train_df.columns[col], axis=1)\n",
    "    tmp_test_df = X_test_df.drop(X_test_df.columns[col], axis=1)\n",
    "    \n",
    "    regr = LinearRegression(fit_intercept=True)\n",
    "    regr.fit(tmp_train_df, y_train_df)\n",
    "    predictions = regr.predict(tmp_test_df)\n",
    "   \n",
    "    mse = mean_squared_error(y_test_df, predictions)\n",
    "    print (\"Mean squared Error for ablated feature \", col, \" is :\", format(mse, '.2f') )\n",
    "    mse_dict[col] = format(mse, '.2f')\n",
    "\n",
    "#mse_dict "
   ]
  },
  {
   "cell_type": "markdown",
   "metadata": {},
   "source": [
    "### Using MSE technique for most/least significant feature identification"
   ]
  },
  {
   "cell_type": "code",
   "execution_count": 63,
   "metadata": {},
   "outputs": [
    {
     "name": "stdout",
     "output_type": "stream",
     "text": [
      "Mean squared Error with all Features (Baseline):  2155.96\n",
      "\n",
      " Ablated feature : MSE sorted-value in ascending\n",
      "0    :         2152.81\n",
      "7    :         2153.06\n",
      "6    :         2159.15\n",
      "9    :         2165.87\n",
      "5    :         2167.52\n",
      "4    :         2187.60\n",
      "1    :         2259.13\n",
      "8    :         2335.17\n",
      "3    :         2424.77\n",
      "2    :         2783.51\n"
     ]
    }
   ],
   "source": [
    "print (\"Mean squared Error with all Features (Baseline): \", format(baseline_mse, '.2f') )\n",
    "print ( \"\\n Ablated feature : MSE sorted-value in ascending\" )\n",
    "for w in sorted(mse_dict, key=mse_dict.get):\n",
    "    print (w, \"   :        \", mse_dict[w])"
   ]
  },
  {
   "cell_type": "markdown",
   "metadata": {},
   "source": [
    "### Least significant feature is : 0  (as have lowest MSE = 2152.81 )\n",
    "### Most significant feature is : 2 (as have highest MSE = 2783.51 )"
   ]
  }
 ],
 "metadata": {
  "kernelspec": {
   "display_name": "Python [conda env:py36]",
   "language": "python",
   "name": "conda-env-py36-py"
  },
  "language_info": {
   "codemirror_mode": {
    "name": "ipython",
    "version": 3
   },
   "file_extension": ".py",
   "mimetype": "text/x-python",
   "name": "python",
   "nbconvert_exporter": "python",
   "pygments_lexer": "ipython3",
   "version": "3.6.1"
  }
 },
 "nbformat": 4,
 "nbformat_minor": 2
}
