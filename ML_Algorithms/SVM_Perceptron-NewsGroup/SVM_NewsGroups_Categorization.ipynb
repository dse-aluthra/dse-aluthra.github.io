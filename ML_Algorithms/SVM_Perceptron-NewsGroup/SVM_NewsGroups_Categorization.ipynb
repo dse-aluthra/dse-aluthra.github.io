{
 "cells": [
  {
   "cell_type": "markdown",
   "metadata": {},
   "source": [
    "## Perceptron and Support Vector Machines"
   ]
  },
  {
   "cell_type": "markdown",
   "metadata": {},
   "source": [
    "##### This noteboook pertains to work on the text data/NLP. Downloaded the newsgroups data (train and test) using fetch 20newsgroups for categories: ’alt.atheism’, ’comp.graphics’, ’sci.space’ and ’talk.politics.mideast’.  Removed ’headers’, ’footers’ and ’quotes’ from the data. Convert all the words in the text to lower case. Use nltk to get the stopwords list (nltk.corpus.stopwords) and remove the stopwords from the text. Use TfidfVectorizer to obtain the tfidf vectors (after smoothing*) for the train and test data and select only top 2000 features. \n",
    "Note : Smoothing the text data is same as computing the idf values after adding a document with all words in the vocabulary."
   ]
  },
  {
   "cell_type": "code",
   "execution_count": 2,
   "metadata": {
    "collapsed": true
   },
   "outputs": [],
   "source": [
    "import pandas as pd\n",
    "import numpy as np\n",
    "from sklearn import preprocessing\n",
    "import matplotlib.pyplot as plt\n",
    "import itertools"
   ]
  },
  {
   "cell_type": "code",
   "execution_count": 3,
   "metadata": {
    "collapsed": true
   },
   "outputs": [],
   "source": [
    "from sklearn import datasets\n",
    "from sklearn.model_selection import train_test_split\n",
    "from sklearn.metrics import accuracy_score\n",
    "from sklearn.linear_model import LogisticRegression\n",
    "from sklearn.model_selection import GridSearchCV\n",
    "from sklearn.metrics import accuracy_score\n",
    "\n",
    "from sklearn.datasets import fetch_20newsgroups\n",
    "from sklearn.feature_extraction.text import TfidfVectorizer\n",
    "from sklearn.feature_extraction.text import HashingVectorizer\n",
    "from sklearn.feature_extraction.text import TfidfTransformer\n",
    "from sklearn.feature_extraction import text\n",
    "from sklearn.linear_model import Perceptron\n",
    "from sklearn.svm import SVC\n",
    "\n",
    "import nltk\n",
    "from nltk.corpus import stopwords\n",
    "from nltk.tokenize import wordpunct_tokenize\n",
    "from collections import Counter \n",
    "from collections import OrderedDict\n",
    "from sklearn.metrics.pairwise import cosine_similarity\n",
    "from sklearn.metrics.pairwise import laplacian_kernel\n",
    "\n",
    "import matplotlib.pyplot as plt\n",
    "%matplotlib inline"
   ]
  },
  {
   "cell_type": "markdown",
   "metadata": {},
   "source": [
    "#### Obtaining the tf-idf vectors for train and test data, use the perceptron model (no penalty) to train on the training vectors and compute the accuracy on the test vectors.  "
   ]
  },
  {
   "cell_type": "code",
   "execution_count": 4,
   "metadata": {},
   "outputs": [],
   "source": [
    "catgrs = ['alt.atheism', 'comp.graphics', 'sci.space', 'talk.politics.mideast']\n",
    "rem = ('headers', 'footers', 'quotes')\n",
    "newsgroups_train = fetch_20newsgroups(subset='train',  remove=rem, categories=catgrs)\n",
    "#len(newsgroups_train)\n",
    "newsgroups_test = fetch_20newsgroups(subset='test', remove=rem, categories=catgrs)\n",
    "#len(newsgroups_test)"
   ]
  },
  {
   "cell_type": "code",
   "execution_count": 5,
   "metadata": {},
   "outputs": [
    {
     "name": "stdout",
     "output_type": "stream",
     "text": [
      "Total Stop words are :  318\n"
     ]
    }
   ],
   "source": [
    "X_train = newsgroups_train.data\n",
    "y_train = newsgroups_train.target\n",
    "X_test = newsgroups_test.data\n",
    "y_test = newsgroups_test.target\n",
    "\n",
    "sklearn_stop_wrds = text.ENGLISH_STOP_WORDS\n",
    "print (\"Total Stop words are : \", len(sklearn_stop_wrds))"
   ]
  },
  {
   "cell_type": "code",
   "execution_count": 6,
   "metadata": {},
   "outputs": [
    {
     "name": "stdout",
     "output_type": "stream",
     "text": [
      "Accuracy using Perceptron model is : 77.60487144790257% \n"
     ]
    }
   ],
   "source": [
    "vectorizer = TfidfVectorizer(stop_words=sklearn_stop_wrds, max_features = 2000, \\\n",
    "                                                                 strip_accents = 'ascii')\n",
    "train_vectors = vectorizer.fit_transform(X_train)\n",
    "test_vectors = vectorizer.transform(X_test)\n",
    "\n",
    "pla = Perceptron( alpha=0.01)\n",
    "pla.fit(train_vectors, y_train)\n",
    "y_pred = pla.predict(test_vectors)\n",
    "print ('Accuracy using Perceptron model is : {}% '.format(accuracy_score(y_test, y_pred) * 100))"
   ]
  },
  {
   "cell_type": "code",
   "execution_count": 7,
   "metadata": {},
   "outputs": [
    {
     "name": "stdout",
     "output_type": "stream",
     "text": [
      "Average non zero element in Train Vector\n"
     ]
    },
    {
     "data": {
      "text/plain": [
       "40.5024763619991"
      ]
     },
     "execution_count": 7,
     "metadata": {},
     "output_type": "execute_result"
    }
   ],
   "source": [
    "print (\"Average non zero element in Train Vector\")\n",
    "train_vectors.nnz / float(train_vectors.shape[0])"
   ]
  },
  {
   "cell_type": "markdown",
   "metadata": {},
   "source": [
    "#### Testing accuracy changes by varying the number of top features selected for 100, 200, 500, 1000, 1500, 2000, 3000 for a perceptron model and plotting the Features Vs Accuracy graph"
   ]
  },
  {
   "cell_type": "code",
   "execution_count": 8,
   "metadata": {},
   "outputs": [
    {
     "data": {
      "text/plain": [
       "{100: 60.893098782138026,\n",
       " 200: 67.658998646820024,\n",
       " 500: 73.139377537212454,\n",
       " 1000: 73.680649526387015,\n",
       " 1500: 73.951285520974281,\n",
       " 2000: 77.604871447902568,\n",
       " 3000: 78.619756427604869}"
      ]
     },
     "execution_count": 8,
     "metadata": {},
     "output_type": "execute_result"
    }
   ],
   "source": [
    "features = [100, 200, 500, 1000, 1500, 2000, 3000]\n",
    "accry_data_dict={} \n",
    "\n",
    "for f in features:\n",
    "    vectorizer = TfidfVectorizer(stop_words=sklearn_stop_wrds, max_features = f, \\\n",
    "                                 strip_accents = 'ascii')\n",
    "    train_vectors = vectorizer.fit_transform(X_train)\n",
    "    test_vectors = vectorizer.transform(X_test)\n",
    "    \n",
    "    pla = Perceptron( alpha=0.01)\n",
    "    pla.fit(train_vectors, y_train)\n",
    "    y_pred = pla.predict(test_vectors)\n",
    "    accry_data_dict[f] = (accuracy_score(y_test, y_pred) * 100)\n",
    "\n",
    "accry_data_dict"
   ]
  },
  {
   "cell_type": "code",
   "execution_count": 9,
   "metadata": {
    "collapsed": true
   },
   "outputs": [],
   "source": [
    "def plot_graph( data_dict, title='Validation Accuracies', \\\n",
    "               xlbl= 'Top Selected Features#', ylbl='Accuracy'):\n",
    "#     item_lst = sorted(data_dict.items())\n",
    "#     x, y = zip(*item_lst)\n",
    "    x, y = zip(*data_dict.items())\n",
    "    plt.plot(x, y)\n",
    "    plt.title(title)\n",
    "    plt.ylabel(ylbl)\n",
    "    plt.xlabel(xlbl)\n",
    "    plt.show()"
   ]
  },
  {
   "cell_type": "code",
   "execution_count": 10,
   "metadata": {},
   "outputs": [
    {
     "data": {
      "image/png": "[encoded data removed]",
      "text/plain": [
       "<matplotlib.figure.Figure at 0x11a1e5e48>"
      ]
     },
     "metadata": {},
     "output_type": "display_data"
    }
   ],
   "source": [
    "plot_graph(accry_data_dict, title='TfidfVectorizer Validation Accuracies')"
   ]
  },
  {
   "cell_type": "markdown",
   "metadata": {
    "collapsed": true
   },
   "source": [
    "####  Using the SVM model to train on the training vectors and compute the accuracy on the test vectors (with Linear kernel) "
   ]
  },
  {
   "cell_type": "code",
   "execution_count": 11,
   "metadata": {},
   "outputs": [
    {
     "name": "stdout",
     "output_type": "stream",
     "text": [
      "Accuracy using Perceptron model is : 79.43166441136671% \n"
     ]
    }
   ],
   "source": [
    "vectorizer = TfidfVectorizer(stop_words=sklearn_stop_wrds, max_features = 2000, \\\n",
    "                             strip_accents = 'ascii')\n",
    "train_vectors = vectorizer.fit_transform(X_train)\n",
    "test_vectors = vectorizer.transform(X_test)\n",
    "clf = SVC(kernel='linear')\n",
    "clf.fit(train_vectors, y_train)\n",
    "y_pred = clf.predict(test_vectors)\n",
    "print ('Accuracy using Perceptron model is : {}% '.format(accuracy_score(y_test, y_pred) * 100))"
   ]
  },
  {
   "cell_type": "markdown",
   "metadata": {},
   "source": [
    "#### Testing accuracy changes by varying the number of top features selected for 100, 200, 500, 1000, 1500, 2000, 3000 for a linear SVM model"
   ]
  },
  {
   "cell_type": "code",
   "execution_count": 18,
   "metadata": {},
   "outputs": [
    {
     "data": {
      "text/plain": [
       "OrderedDict([(100, 65.5615696887686),\n",
       "             (200, 71.380243572395131),\n",
       "             (500, 74.560216508795676),\n",
       "             (1000, 76.792963464140726),\n",
       "             (1500, 77.740189445196208),\n",
       "             (2000, 79.431664411366711),\n",
       "             (3000, 81.461434370771315)])"
      ]
     },
     "execution_count": 18,
     "metadata": {},
     "output_type": "execute_result"
    }
   ],
   "source": [
    "features = [100, 200, 500, 1000, 1500, 2000, 3000]\n",
    "svm_accry_dict= OrderedDict() \n",
    "\n",
    "for f in features:\n",
    "    vectorizer = TfidfVectorizer(stop_words=sklearn_stop_wrds, max_features = f, \\\n",
    "                                 strip_accents = 'ascii')\n",
    "    train_vectors = vectorizer.fit_transform(X_train)    \n",
    "    test_vectors = vectorizer.transform(X_test)\n",
    "    \n",
    "    clf = SVC(kernel='linear')\n",
    "    clf.fit(train_vectors, y_train)\n",
    "    y_pred = clf.predict(test_vectors)\n",
    "    svm_accry_dict[f] = (accuracy_score(y_test, y_pred) * 100)\n",
    "\n",
    "svm_accry_dict"
   ]
  },
  {
   "cell_type": "code",
   "execution_count": 19,
   "metadata": {},
   "outputs": [
    {
     "data": {
      "image/png": "[encoded data removed]",
      "text/plain": [
       "<matplotlib.figure.Figure at 0x115c7c748>"
      ]
     },
     "metadata": {},
     "output_type": "display_data"
    }
   ],
   "source": [
    "plot_graph(svm_accry_dict, title='SVM Validation Accuracies')"
   ]
  },
  {
   "cell_type": "markdown",
   "metadata": {},
   "source": [
    "#### Performing 80-20 split of the training data to obtain validation data using train test split (random state=10). Use this validation data to tune the cost parameter ’C’ for values 0.01,0.1,1,10,100."
   ]
  },
  {
   "cell_type": "code",
   "execution_count": 20,
   "metadata": {},
   "outputs": [
    {
     "name": "stdout",
     "output_type": "stream",
     "text": [
      "Shape of X_train, X_test :  2221 1478\n",
      "Shape of y_train, y_test :  2221 1478\n"
     ]
    }
   ],
   "source": [
    "print (\"Shape of X_train, X_test : \", len(X_train), len(X_test))\n",
    "print (\"Shape of y_train, y_test : \", len(y_train),  len(y_test))"
   ]
  },
  {
   "cell_type": "code",
   "execution_count": 21,
   "metadata": {
    "collapsed": true
   },
   "outputs": [],
   "source": [
    "X_train_split, X_valid, y_train_split, y_valid = train_test_split(X_train, y_train, \\\n",
    "                                                        test_size=0.2, random_state=10)"
   ]
  },
  {
   "cell_type": "code",
   "execution_count": 22,
   "metadata": {},
   "outputs": [
    {
     "name": "stdout",
     "output_type": "stream",
     "text": [
      "Valid accuracy for C= 0.01 : 0.244943820225\n",
      "Valid accuracy for C= 0.1 : 0.775280898876\n",
      "Valid accuracy for C= 1 : 0.83595505618\n",
      "Valid accuracy for C= 10 : 0.811235955056\n",
      "Valid accuracy for C= 100 : 0.793258426966\n"
     ]
    }
   ],
   "source": [
    "for cost in [0.01,0.1,1,10,100]:\n",
    "    vectorizer = TfidfVectorizer(stop_words=sklearn_stop_wrds, max_features = 2000,\\\n",
    "                                 strip_accents = 'ascii')\n",
    "    train_vectors = vectorizer.fit_transform(X_train_split)    \n",
    "    val_vectors = vectorizer.transform(X_valid)\n",
    "    \n",
    "    clf = SVC(kernel='linear', C=cost)\n",
    "    clf.fit(train_vectors, y_train_split)\n",
    "    pred = clf.predict(val_vectors)\n",
    "    print ('Valid accuracy for C= '+ str(cost) + ' : ' + str(accuracy_score(y_valid, pred)))"
   ]
  },
  {
   "cell_type": "code",
   "execution_count": 23,
   "metadata": {
    "collapsed": true
   },
   "outputs": [],
   "source": [
    "# C = 1 selected as best"
   ]
  },
  {
   "cell_type": "code",
   "execution_count": 24,
   "metadata": {},
   "outputs": [
    {
     "name": "stdout",
     "output_type": "stream",
     "text": [
      "Accuracy using SVC for C=1 model is : 79.43166441136671% \n"
     ]
    }
   ],
   "source": [
    "vectorizer = TfidfVectorizer(stop_words=sklearn_stop_wrds, max_features = 2000, \\\n",
    "                             strip_accents = 'ascii')\n",
    "train_vectors = vectorizer.fit_transform(X_train)\n",
    "test_vectors = vectorizer.transform(X_test)\n",
    "\n",
    "clf = SVC(kernel='linear', C=1)\n",
    "clf.fit(train_vectors, y_train)\n",
    "y_pred = clf.predict(test_vectors)\n",
    "print ('Accuracy using SVC for C=1 model is : {}% '\\\n",
    "                       .format(accuracy_score(y_test, y_pred) * 100))"
   ]
  },
  {
   "cell_type": "markdown",
   "metadata": {},
   "source": [
    "#### Train a kernelized SVM (with ’C’=10000) with kernel values - ’poly’ with degree 1, 2, 3, ’rbf’ and ’sigmoid’, and calculaitng best accuracy on validation data."
   ]
  },
  {
   "cell_type": "code",
   "execution_count": 25,
   "metadata": {},
   "outputs": [
    {
     "name": "stdout",
     "output_type": "stream",
     "text": [
      "Shape of X_train, X_test :  2221 1478\n",
      "Shape of y_train, y_test :  2221 1478\n",
      "Shape of X_train_split, X_valid, X_test :  1776 445 1478\n",
      "Shape of y_train_split, , y_valid, y_test :  1776 445 1478\n"
     ]
    }
   ],
   "source": [
    "print (\"Shape of X_train, X_test : \", len(X_train), len(X_test))\n",
    "print (\"Shape of y_train, y_test : \", len(y_train),  len(y_test))\n",
    "X_train_split, X_valid, y_train_split, y_valid = train_test_split(X_train, y_train,\\\n",
    "                                                        test_size=0.2, random_state=10)\n",
    "\n",
    "print (\"Shape of X_train_split, X_valid, X_test : \", len(X_train_split), len(X_valid),\\\n",
    "                                                           len(X_test))\n",
    "print (\"Shape of y_train_split, , y_valid, y_test : \", len(y_train_split), len(y_valid) ,\\\n",
    "                                                           len(y_test))"
   ]
  },
  {
   "cell_type": "code",
   "execution_count": 26,
   "metadata": {},
   "outputs": [
    {
     "name": "stdout",
     "output_type": "stream",
     "text": [
      "Validation data accuracy : 0.808988764045\n"
     ]
    }
   ],
   "source": [
    "parameters = { 'kernel': ['poly','rbf', 'sigmoid'], 'degree':[1, 2, 3]}\n",
    "vectorizer = TfidfVectorizer(stop_words=sklearn_stop_wrds, max_features = 2000, \\\n",
    "                                                     strip_accents = 'ascii')\n",
    "train_vectors = vectorizer.fit_transform(X_train_split)    \n",
    "val_vectors = vectorizer.transform(X_valid)\n",
    "\n",
    "sv_clf = SVC(C=10000)\n",
    "clf = GridSearchCV(sv_clf, parameters, verbose=False, n_jobs=-1)\n",
    "\n",
    "clf.fit(train_vectors, y_train_split)\n",
    "pred = clf.predict(val_vectors)\n",
    "print ('Validation data accuracy : ' + str(accuracy_score(y_valid, pred)))\n",
    "#clf.get_params()"
   ]
  },
  {
   "cell_type": "code",
   "execution_count": 28,
   "metadata": {},
   "outputs": [
    {
     "name": "stdout",
     "output_type": "stream",
     "text": [
      "Test data accuracy : 0.778755074425\n"
     ]
    }
   ],
   "source": [
    "test_vectors = vectorizer.transform(X_test)\n",
    "pred_test = clf.predict(test_vectors)\n",
    "print ('Test data accuracy : ' + str(accuracy_score(y_test, pred_test)))"
   ]
  },
  {
   "cell_type": "code",
   "execution_count": 29,
   "metadata": {
    "collapsed": true
   },
   "outputs": [],
   "source": [
    "X_train = np.concatenate((X_train, X_valid))\n",
    "y_train = np.concatenate((y_train, y_valid))"
   ]
  },
  {
   "cell_type": "code",
   "execution_count": 30,
   "metadata": {},
   "outputs": [
    {
     "name": "stdout",
     "output_type": "stream",
     "text": [
      "Accuracy using SVC model for Kernel = rbf is : 76.04871447902572% \n"
     ]
    }
   ],
   "source": [
    "vectorizer = TfidfVectorizer(stop_words=sklearn_stop_wrds, max_features = 2000,\\\n",
    "                                                         strip_accents = 'ascii')\n",
    "train_vectors = vectorizer.fit_transform(X_train)\n",
    "test_vectors = vectorizer.transform(X_test)\n",
    "\n",
    "clf = SVC(kernel='rbf', C=10000)\n",
    "clf.fit(train_vectors, y_train)\n",
    "y_pred = clf.predict(test_vectors)\n",
    "print ('Accuracy using SVC model for Kernel = rbf is : {}% '\\\n",
    "                                   .format(accuracy_score(y_test, y_pred) * 100))"
   ]
  },
  {
   "cell_type": "markdown",
   "metadata": {},
   "source": [
    "#### Using Cosine Similarity and Laplacian Kernel (exp−||x−y||1 ) measures, and calculating the test accuracies using these kernels with SVM"
   ]
  },
  {
   "cell_type": "code",
   "execution_count": 31,
   "metadata": {
    "collapsed": true
   },
   "outputs": [],
   "source": [
    "def my_kernel(X,y):\n",
    "    return cosine_similarity(X,y)   "
   ]
  },
  {
   "cell_type": "code",
   "execution_count": 32,
   "metadata": {},
   "outputs": [
    {
     "name": "stdout",
     "output_type": "stream",
     "text": [
      "Test Accuracy using Cosine Similarity : 78.75507442489851% \n",
      "Train Accuracy : 95.61140285071268% \n"
     ]
    }
   ],
   "source": [
    "vectorizer = TfidfVectorizer(stop_words=sklearn_stop_wrds, max_features = 2000, \\\n",
    "                                     strip_accents = 'ascii')\n",
    "train_vectors = vectorizer.fit_transform(X_train)\n",
    "test_vectors = vectorizer.transform(X_test)\n",
    "clf = SVC(kernel=my_kernel)\n",
    "clf.fit(train_vectors, y_train)\n",
    "y_pred = clf.predict(test_vectors)\n",
    "print ('Test Accuracy using Cosine Similarity : {}% '\\\n",
    "                               .format(accuracy_score(y_test, y_pred) * 100))\n",
    "\n",
    "y_pred_train = clf.predict(train_vectors)\n",
    "print ('Train Accuracy : {}% '.format(accuracy_score(y_train, y_pred_train) * 100))"
   ]
  },
  {
   "cell_type": "code",
   "execution_count": 33,
   "metadata": {
    "collapsed": true
   },
   "outputs": [],
   "source": [
    "def myLaplace_kernel(X,y):\n",
    "    return laplacian_kernel(X,y)  "
   ]
  },
  {
   "cell_type": "code",
   "execution_count": 34,
   "metadata": {
    "scrolled": true
   },
   "outputs": [
    {
     "name": "stdout",
     "output_type": "stream",
     "text": [
      "Test Accuracy using Laplace Kernel : 26.65764546684709% \n",
      "Train Accuracy : 26.331582895723933% \n"
     ]
    }
   ],
   "source": [
    "vectorizer = TfidfVectorizer(stop_words=sklearn_stop_wrds, max_features = 2000,\\\n",
    "                                                             strip_accents = 'ascii')\n",
    "train_vectors = vectorizer.fit_transform(X_train)\n",
    "test_vectors = vectorizer.transform(X_test)\n",
    "clf = SVC(kernel=myLaplace_kernel)\n",
    "\n",
    "clf.fit(train_vectors, y_train)\n",
    "y_pred = clf.predict(test_vectors)\n",
    "print ('Test Accuracy using Laplace Kernel : {}% '\\\n",
    "                                       .format(accuracy_score(y_test, y_pred) * 100))\n",
    "y_pred_train = clf.predict(train_vectors)\n",
    "print ('Train Accuracy : {}% '.format(accuracy_score(y_train, y_pred_train) * 100))"
   ]
  },
  {
   "cell_type": "markdown",
   "metadata": {},
   "source": [
    "#### Constructing custom kernel as a linear combination of 2 kernels. Let K be a kernel represented as:\n",
    "K(x, y) = αK1(x, y) + (1 − α)K2(x, y) (0 ≤ α ≤ 1)"
   ]
  },
  {
   "cell_type": "code",
   "execution_count": 36,
   "metadata": {
    "collapsed": true,
    "scrolled": true
   },
   "outputs": [],
   "source": [
    "vectorizer = TfidfVectorizer(stop_words=sklearn_stop_wrds, max_features = 2000, strip_accents = 'ascii')\n",
    "X_train = vectorizer.fit_transform(X_train)\n",
    "X_test  = vectorizer.transform(X_test)\n",
    "\n",
    "X_train_split, X_valid, y_train_split, y_valid = train_test_split(X_train, y_train,\\\n",
    "                                                        test_size=0.2, random_state=10)\n",
    "# print (\"\\nShape of X_train_split, X_valid, X_test : \", X_train_split.shape[0], X_valid.shape[0], X_test.shape[0])\n",
    "# print (\"Shape of y_train_split, y_valid, y_test : \", len(y_train_split), len(y_valid),len(y_test))"
   ]
  },
  {
   "cell_type": "code",
   "execution_count": 37,
   "metadata": {},
   "outputs": [
    {
     "name": "stdout",
     "output_type": "stream",
     "text": [
      "Validation accuracy for α = 0.0\tis 0.243445692884\n",
      "Validation accuracy for α = 0.1\tis 0.814606741573\n",
      "Validation accuracy for α = 0.2\tis 0.859550561798\n",
      "Validation accuracy for α = 0.3\tis 0.880149812734\n",
      "Validation accuracy for α = 0.4\tis 0.876404494382\n",
      "Validation accuracy for α = 0.5\tis 0.876404494382\n",
      "Validation accuracy for α = 0.6\tis 0.880149812734\n",
      "Validation accuracy for α = 0.7\tis 0.874531835206\n",
      "Validation accuracy for α = 0.8\tis 0.874531835206\n",
      "Validation accuracy for α = 0.9\tis 0.878277153558\n",
      "Validation accuracy for α = 1.0\tis 0.878277153558\n",
      "Best accuracy is = 0.880149812734 for α =0.3\n"
     ]
    }
   ],
   "source": [
    "alpha_val = np.arange(0, 1.01, 0.1)\n",
    "\n",
    "alpha_best = 0\n",
    "acc_best = 0\n",
    "for alpha in alpha_val:\n",
    "    X_train_K = ( (alpha * cosine_similarity(X_train_split))  +  ((1-alpha)* laplacian_kernel(X_train_split)) )\n",
    "    X_valid_K = ((alpha * cosine_similarity(X_valid,X_train_split)) + (1-alpha) * laplacian_kernel(X_valid,X_train_split))\n",
    "        \n",
    "    clf = SVC(kernel='precomputed') \n",
    "    clf.fit(X_train_K, y_train_split)\n",
    "    \n",
    "    pred = clf.predict(X_valid_K)\n",
    "    acc = accuracy_score(y_valid, pred)\n",
    "    print('Validation accuracy for α = ' + str(alpha) + '\\tis ' + str(acc))\n",
    "    if (acc > acc_best):\n",
    "        alpha_best  = alpha\n",
    "        acc_best = acc # update optimal alpha with latest values\n",
    "        \n",
    "print('Best accuracy is = ' + str(acc_best) + ' for α =' + str(alpha_best))"
   ]
  },
  {
   "cell_type": "code",
   "execution_count": 40,
   "metadata": {},
   "outputs": [
    {
     "name": "stdout",
     "output_type": "stream",
     "text": [
      "Test accuracy α = 0.3\tis 0.799052774019\n"
     ]
    }
   ],
   "source": [
    "alpha = alpha_best\n",
    "X_train_K = ( (alpha * cosine_similarity(X_train_split))  +  ((1-alpha)* laplacian_kernel(X_train_split)) )\n",
    "X_test_K = ((alpha * cosine_similarity(X_test,X_train_split)) + (1-alpha) * laplacian_kernel(X_test,X_train_split))\n",
    "\n",
    "clf = SVC(kernel='precomputed')  \n",
    "clf.fit(X_train_K, y_train_split)\n",
    "Y_pred = clf.predict(X_test_K)\n",
    "\n",
    "acc_per_alpha = accuracy_score(y_test, Y_pred)\n",
    "print('Test accuracy α = ' + str(alpha) + '\\tis ' + str(acc_per_alpha))"
   ]
  },
  {
   "cell_type": "markdown",
   "metadata": {},
   "source": [
    "###  Mercer's condition leads to \n",
    "1. Similarity matrix which is Positive -Semi definite.  i.e. semi-positive definite will change the magnittude of Vector (after hitting it or after dot product) while the change in direction will less that 90 degrees.  \n",
    "2. Also with 0< 'alpha' < 1 will cause the linear combination to converge to minimum as it's Convex function (2nd derivative is positive)\n",
    "3. For kernel expressed as K(X,y) we find the inner (dot product) of X & y with positive real coefficints and the for infinite term the seriew will converge. "
   ]
  }
 ],
 "metadata": {
  "kernelspec": {
   "display_name": "Python [conda env:py36]",
   "language": "python",
   "name": "conda-env-py36-py"
  },
  "language_info": {
   "codemirror_mode": {
    "name": "ipython",
    "version": 3
   },
   "file_extension": ".py",
   "mimetype": "text/x-python",
   "name": "python",
   "nbconvert_exporter": "python",
   "pygments_lexer": "ipython3",
   "version": "3.6.1"
  }
 },
 "nbformat": 4,
 "nbformat_minor": 2
}
