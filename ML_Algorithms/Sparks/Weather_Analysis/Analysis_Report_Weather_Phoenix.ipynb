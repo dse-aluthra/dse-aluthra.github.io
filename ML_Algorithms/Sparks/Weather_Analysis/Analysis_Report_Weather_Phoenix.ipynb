{
 "cells": [
  {
   "cell_type": "markdown",
   "metadata": {
    "run_control": {
     "frozen": false,
     "read_only": false
    }
   },
   "source": [
    "## Mt Baldy, Phoenix, AZ Weather Analysis\n",
    "\n",
    "This is a report on the historical analysis of weather patterns in an area that is around Mt Baldy near Phoenix Arizona (this report have been generate from the code located in this folder).\n",
    "<img src='Screen1.png' >\n",
    "\n",
    "The region has 29 stations which have been collecting data over the period of many years.\n",
    "* **Station Id USC00028326 is at highest Elevation of 2856.0 mts** \n",
    "* **Station Id USC00023448 is at lowest Elevation of 883.9 mts** \n",
    "\n",
    "The data we will use here comes from [NOAA](https://www.ncdc.noaa.gov/). Specifically, it was downloaded from This [FTP site](ftp://ftp.ncdc.noaa.gov/pub/data/ghcn/daily/).\n",
    "\n",
    "We focused on six measurements:\n",
    "* **TMIN, TMAX:** the daily minimum and maximum temperature.\n",
    "* **TOBS:** The average temperature for each day.\n",
    "* **PRCP:** Daily Percipitation (in mm)\n",
    "* **SNWD:** The depth of accumulated snow.\n",
    "\n",
    "## Sanity-check: comparison with outside sources\n",
    "\n",
    "<p>We start by comparing some of the general statistics with graphs that we obtained from a site called <a href=\"http://www.usclimatedata.com/climate/boston/massachusetts/united-states/usma0046\" target=\"_blank\">US Climate Data</a> The graph below shows the daily minimum and maximum temperatures for each month, as well as the total precipitation for each month.</p>\n",
    "\n",
    "<p>&nbsp;</p>\n",
    "\n",
    "<p><img alt=\"s3.jpg\" src=\"s3.jpg\" /></p>\n",
    "\n",
    "\n",
    "<p>&nbsp;</p>\n",
    "\n",
    "<p>We see that the min and max daily&nbsp;temperature agree with the ones we got from our data, once we translate Fahrenheit to Centigrade.</p>\n",
    "\n",
    "<p>&nbsp;</p>\n",
    "\n",
    "<p><img alt=\"s4.png\" src=\"s4.png\" style=\"height:300px; width:800px\" /></p>\n",
    "\n",
    "\n",
    "* *The Orange color line represnts the average mean.  We notice the temparature doesnot vary much over the year at different locations. It indicates hot climate. In the months of July Mean and Standard deviations are same.\n",
    "* *Also the Mean & std of TMIN and TMAX curve shape match with the public US site (refer above) \n",
    "\n",
    "<p>&nbsp;<img alt=\"s5.png\" src=\"s5.png\" style=\"height:300px; width:800px\" /></p>\n",
    "* Also there is lot of standard deviation on yearly basis for PRCP i.e the graph line is not smooth.\n",
    "\n",
    "<p><img alt=\"s5-a.png\" src=\"s5-a.png\" style=\"height:300px; width:800px\" /></p>\n",
    "* It snows in different years at different stations (locations) with varying degree, so there's no consitency in Snow fall in the region."
   ]
  },
  {
   "cell_type": "markdown",
   "metadata": {},
   "source": [
    "## Yearly Average of Observation\n",
    "\n",
    "<img src='s11.png' >\n",
    "\n",
    "From the above scatter matrix plot we notice the SNWD average increases as the elevation increases i.e. positive correlation.\n",
    "\n",
    "<img src='s12.png' >\n",
    "\n",
    "From the above scatter matrix plot we notice the SNOW fall average increases as the elevation increases i.e. positive correlation. Both SNWD and SNOW follow the same pattern. \n",
    "\n",
    "<img src='s13.png' >\n",
    "\n",
    "From the above scatter matrix plot we notice the TMIN yearly average decreases as the elevation increases \n",
    "\n",
    "<img src='s14.png' >\n",
    "\n",
    "From the above scatter matrix plot we notice the TOBS yearly average decreases as the elevation increases i.e. negative correlation, also TOBS and TMIN follow the same pattern. \n"
   ]
  },
  {
   "cell_type": "markdown",
   "metadata": {
    "run_control": {
     "frozen": false,
     "read_only": false
    }
   },
   "source": [
    "## PCA analysis\n",
    "\n",
    "For each of the six measurement, we compute the percentate of the variance explained as a function of the number of eigen-vectors used.\n",
    "\n",
    "### Percentage of variance explained.\n",
    "![s6.png](s6.png)\n",
    "We see that the top 6 eigen-vectors explain 75% of variance for TMIN, 70% for TOBS and 68% for TMAX.\n",
    "\n",
    "We conclude that of the three, TMIN is best explained by the top 5 eigenvectors. This is especially true for the first eigen-vector which, by itself, explains 75% of the variance.\n",
    "\n",
    "![s7.png](s7.png)\n",
    "\n",
    "The top 6 eigenvectors explain 17% of SNOW, 9% of the variance for SNDW and 12% for PRCP. All are low values.  Based on that we will dig deeper into the PCA analysis for snow-depth.\n",
    "\n",
    "This indicates an dry weather as Snow-depth decays soon."
   ]
  },
  {
   "cell_type": "markdown",
   "metadata": {
    "run_control": {
     "frozen": false,
     "read_only": false
    }
   },
   "source": [
    "## Analysis of snow depth\n",
    "\n",
    "We choose to analyze the eigen-decomposition for snow-depth because the first 10 eigen-vectors explain 9% of the variance.\n",
    "\n",
    "First, we graph the mean and the top 3 eigen-vectors.\n",
    "\n",
    "We observe that the snow season is from December to the end of mid-April, where the early of February marks the peak of the snow-depth.\n",
    "![s8.png](s8.png)"
   ]
  },
  {
   "cell_type": "markdown",
   "metadata": {
    "run_control": {
     "frozen": false,
     "read_only": false
    }
   },
   "source": [
    "### Examples of reconstructions\n",
    "\n",
    "#### Coeff1\n",
    "Coeff1: most positive\n",
    "![s9.png](s9.png)\n",
    "Large positive values of coeff1 correspond to a snow season and at the above stations contribute heavily towards the top Eigen vectors of SNWD. \n",
    "\n"
   ]
  },
  {
   "cell_type": "markdown",
   "metadata": {},
   "source": [
    "## Conclusion : \n",
    "\n",
    "* **1. We notice the data collected from the stations is aligned to the US Climate data from the region** \n",
    "* **2. The increase in Elevation causes a direct effect to TMIN, SNOW-fall and SNWD**\n",
    "* **3. After reconstruciton we notice few station contribite more towards the top eigen vector** "
   ]
  },
  {
   "cell_type": "code",
   "execution_count": null,
   "metadata": {
    "collapsed": true
   },
   "outputs": [],
   "source": []
  }
 ],
 "metadata": {
  "anaconda-cloud": {},
  "kernelspec": {
   "display_name": "Python [conda root]",
   "language": "python",
   "name": "conda-root-py"
  },
  "language_info": {
   "codemirror_mode": {
    "name": "ipython",
    "version": 2
   },
   "file_extension": ".py",
   "mimetype": "text/x-python",
   "name": "python",
   "nbconvert_exporter": "python",
   "pygments_lexer": "ipython2",
   "version": "2.7.13"
  },
  "toc": {
   "colors": {
    "hover_highlight": "#DAA520",
    "running_highlight": "#FF0000",
    "selected_highlight": "#FFD700"
   },
   "moveMenuLeft": true,
   "nav_menu": {
    "height": "12px",
    "width": "252px"
   },
   "navigate_menu": true,
   "number_sections": true,
   "sideBar": true,
   "threshold": 4,
   "toc_cell": false,
   "toc_section_display": "block",
   "toc_window_display": false
  }
 },
 "nbformat": 4,
 "nbformat_minor": 2
}
